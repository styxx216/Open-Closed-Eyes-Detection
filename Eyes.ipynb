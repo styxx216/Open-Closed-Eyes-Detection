{
  "nbformat": 4,
  "nbformat_minor": 0,
  "metadata": {
    "colab": {
      "provenance": [],
      "gpuType": "T4",
      "include_colab_link": true
    },
    "kernelspec": {
      "name": "python3",
      "display_name": "Python 3"
    },
    "language_info": {
      "name": "python"
    },
    "gpuClass": "standard",
    "accelerator": "GPU"
  },
  "cells": [
    {
      "cell_type": "markdown",
      "metadata": {
        "id": "view-in-github",
        "colab_type": "text"
      },
      "source": [
        "<a href=\"https://colab.research.google.com/github/styxx216/EYES_TEST/blob/main/Eyes.ipynb\" target=\"_parent\"><img src=\"https://colab.research.google.com/assets/colab-badge.svg\" alt=\"Open In Colab\"/></a>"
      ]
    },
    {
      "cell_type": "code",
      "source": [
        "!pip install kmeans-pytorch"
      ],
      "metadata": {
        "colab": {
          "base_uri": "https://localhost:8080/"
        },
        "id": "zWlX4mvWsIcc",
        "outputId": "e4ee6da5-7b50-41be-d323-7c78ef4fc0d6"
      },
      "execution_count": null,
      "outputs": [
        {
          "output_type": "stream",
          "name": "stdout",
          "text": [
            "Looking in indexes: https://pypi.org/simple, https://us-python.pkg.dev/colab-wheels/public/simple/\n",
            "Collecting kmeans-pytorch\n",
            "  Downloading kmeans_pytorch-0.3-py3-none-any.whl (4.4 kB)\n",
            "Installing collected packages: kmeans-pytorch\n",
            "Successfully installed kmeans-pytorch-0.3\n"
          ]
        }
      ]
    },
    {
      "cell_type": "code",
      "execution_count": null,
      "metadata": {
        "id": "JMQjOzsngsMY"
      },
      "outputs": [],
      "source": [
        "import pandas\n",
        "import torch\n",
        "import torchvision\n",
        "import numpy as np\n",
        "import matplotlib.pyplot as plt\n",
        "from torch.utils.data import Dataset\n",
        "import torch.nn.functional as F\n",
        "import os\n",
        "import cv2\n",
        "import albumentations\n",
        "from albumentations import pytorch as AT\n",
        "import random\n",
        "import pandas as pd\n",
        "from kmeans_pytorch import kmeans\n",
        "import sklearn\n",
        "%matplotlib inline"
      ]
    },
    {
      "cell_type": "code",
      "source": [
        "device = torch.device('cuda' if torch.cuda.is_available() else 'cpu')\n",
        "print(device)"
      ],
      "metadata": {
        "colab": {
          "base_uri": "https://localhost:8080/"
        },
        "id": "feol2ZeEpz8I",
        "outputId": "1457132a-7c8b-44e4-8d7e-960d5e5572d9"
      },
      "execution_count": null,
      "outputs": [
        {
          "output_type": "stream",
          "name": "stdout",
          "text": [
            "cuda\n"
          ]
        }
      ]
    },
    {
      "cell_type": "code",
      "source": [
        "BATH_SIZE = 8"
      ],
      "metadata": {
        "id": "RW8w9Wm4rEzZ"
      },
      "execution_count": null,
      "outputs": []
    },
    {
      "cell_type": "code",
      "source": [
        "from google.colab import drive\n",
        "drive.mount('/content/drive')"
      ],
      "metadata": {
        "colab": {
          "base_uri": "https://localhost:8080/"
        },
        "id": "7KUiePY6b7QE",
        "outputId": "ed75e9bd-4ecd-46b3-9732-86d241c291c0"
      },
      "execution_count": null,
      "outputs": [
        {
          "output_type": "stream",
          "name": "stdout",
          "text": [
            "Mounted at /content/drive\n"
          ]
        }
      ]
    },
    {
      "cell_type": "code",
      "source": [
        "PATH_TO_TRAIN_DATA = '/content/drive/MyDrive/Без названия/train'\n",
        "#PATH_TO_TRAIN_DATA='https://drive.google.com/uc?id=' + url.split('/')[-2]\n",
        "url = 'https://drive.google.com/file/d/1ocYoFBuzQwVQu_XBes0x6IWkOlY7i9ww/view?usp=sharing'\n",
        "PATH_TO_LABELS = 'https://drive.google.com/uc?id=' + url.split('/')[-2]"
      ],
      "metadata": {
        "id": "ilUars1Az9U7"
      },
      "execution_count": null,
      "outputs": []
    },
    {
      "cell_type": "code",
      "source": [
        "class dataset(Dataset):\n",
        "    def __init__(self, path,transform=None):\n",
        "        self.path = path\n",
        "        self.transform = transform\n",
        "    def __len__(self):\n",
        "        res = len(os.listdir(self.path))\n",
        "        return res\n",
        "    def __getitem__(self,idx):\n",
        "        path = self.path+'//'+os.listdir(self.path)[idx]\n",
        "        image = cv2.imread(path,0)\n",
        "        if self.transform:\n",
        "            augmented = self.transform(image=image)\n",
        "            image = augmented[\"image\"]\n",
        "        image = torch.tensor(image).float().to(device)\n",
        "        image = image.reshape([1,24,24])\n",
        "        return image, path"
      ],
      "metadata": {
        "id": "HnGqfeqNp3AE"
      },
      "execution_count": null,
      "outputs": []
    },
    {
      "cell_type": "code",
      "source": [
        "class labeled_dataset(Dataset):\n",
        "    def __init__(self, path,path_to_labels,transform=None):\n",
        "        self.path = path\n",
        "        self.transform = transform\n",
        "        self.df = pd.read_csv(path_to_labels)\n",
        "        self.df = self.df[self.df.marks.notnull()]\n",
        "    def __len__(self):\n",
        "        res = len(self.df)\n",
        "        return res\n",
        "    def __getitem__(self,idx):\n",
        "        t = self.df.iloc[idx]\n",
        "        path = self.path+'//'+t['pathes']\n",
        "        image = cv2.imread(path,0)\n",
        "        if self.transform:\n",
        "            augmented = self.transform(image=image)\n",
        "            image = augmented[\"image\"]\n",
        "        image = torch.tensor(image).float().to(device)/225\n",
        "        image = torch.unsqueeze(image, 0)\n",
        "        label = t.marks\n",
        "        return image, label"
      ],
      "metadata": {
        "id": "eMt1Z5Aueq4A"
      },
      "execution_count": null,
      "outputs": []
    },
    {
      "cell_type": "code",
      "source": [
        "data_transformation = albumentations.Compose([\n",
        "    albumentations.RandomBrightnessContrast(p=0.5),\n",
        "    albumentations.HorizontalFlip()\n",
        "    ])"
      ],
      "metadata": {
        "id": "sTjCpzVnpvwV"
      },
      "execution_count": null,
      "outputs": []
    },
    {
      "cell_type": "code",
      "source": [
        "img_set = labeled_dataset(PATH_TO_TRAIN_DATA,PATH_TO_LABELS, transform = data_transformation)"
      ],
      "metadata": {
        "id": "Ugcb6CvK4IxZ"
      },
      "execution_count": null,
      "outputs": []
    },
    {
      "cell_type": "code",
      "source": [
        "plt.imshow(img_set[8][0].cpu()[0], cmap = 'gray')"
      ],
      "metadata": {
        "colab": {
          "base_uri": "https://localhost:8080/",
          "height": 448
        },
        "id": "A41Dpepsn1bZ",
        "outputId": "dc3eaba7-b759-4c2c-a008-27f05b8f4e7e"
      },
      "execution_count": null,
      "outputs": [
        {
          "output_type": "execute_result",
          "data": {
            "text/plain": [
              "<matplotlib.image.AxesImage at 0x7fbab697e190>"
            ]
          },
          "metadata": {},
          "execution_count": 22
        },
        {
          "output_type": "display_data",
          "data": {
            "text/plain": [
              "<Figure size 640x480 with 1 Axes>"
            ],
            "image/png": "[encoded data removed]"
          },
          "metadata": {}
        }
      ]
    },
    {
      "cell_type": "code",
      "source": [
        "train_set, test_set = sklearn.model_selection.train_test_split(img_set,test_size=0.1)"
      ],
      "metadata": {
        "id": "Mn-nAADt9eu-"
      },
      "execution_count": null,
      "outputs": []
    },
    {
      "cell_type": "code",
      "source": [
        "trainloader = torch.utils.data.DataLoader(train_set, \n",
        "                                        batch_size=BATH_SIZE, shuffle=True)\n",
        "testloader = torch.utils.data.DataLoader(test_set, \n",
        "                                        batch_size=1, shuffle=True)"
      ],
      "metadata": {
        "id": "QMolLMjx5wvs"
      },
      "execution_count": null,
      "outputs": []
    },
    {
      "cell_type": "code",
      "source": [
        "class MyModel(torch.nn.Module):\n",
        "    def __init__(self):\n",
        "        super().__init__()\n",
        "        self.conv_1 = torch.nn.Conv2d(1,8,cernal_size=3,padding=1)#[24,24,1]->[24,24,8]\n",
        "        self.bn_1 = torch.nn.BatchNorm2d(8)\n",
        "        self.conv_2 = torch.nn.Conv2d(8,16,cernal_size=3,padding=1)#[24,24,8]->[24,24,16]\n",
        "        self.bn_2 = torch.nn.BatchNorm2d(16)\n",
        "        self.pool = torch.nn.MaxPool2d(2,2)\n",
        "        self.conv_3 = torch.nn.Conv2d(16,32,cernal_size=3,padding=1)#[12,12,16]->[12,12,32]\n",
        "        self.bn_3 = torch.nn.BatchNorm2d(32)\n",
        "        self.conv_4 = torch.nn.Conv2d(32,64,cernal_size=3,padding=1)#[12,12,32]->[12,12,64]\n",
        "        self.bn_4 = torch.nn.BatchNorm2d(64)\n",
        "        self.conv_5 = torch.nn.Conv2d(64,128,cernal_size=3,padding=1)#[6,6,64]->[6,6,128]\n",
        "        self.bn_5 = torch.nn.BatchNorm2d(128)\n",
        "        self.conv_6 = torch.nn.Conv2d(128,256,cernal_size=3,padding=1)#[6,6,128]->[6,6,256]\n",
        "        self.bn_6 = torch.nn.BatchNorm2d(256)\n",
        "        #[3,3,256]\n",
        "        self.fc_1 = torch.nn.Linear(3*3*256, 1024)\n",
        "        self.fc_2 = torch.nn.Linear(1024, 1)\n",
        "    def forvard(self,x):\n",
        "        x = self.conv_1(x)\n",
        "        x = self.bn_1(x)\n",
        "        x = F.relu(x)\n",
        "        x = self.conv_2(x)\n",
        "        x = self.bn_2(x)\n",
        "        x = F.relu(x)\n",
        "        x = self.pool(x)\n",
        "        x = self.conv_3(x)\n",
        "        x = self.bn_3(x)\n",
        "        x = F.relu(x)\n",
        "        x = self.conv_4(x)\n",
        "        x = self.bn_4(x)\n",
        "        x = F.relu(x)\n",
        "        x = self.pool(x)\n",
        "        x = self.conv_5(x)\n",
        "        x = self.bn_5(x)\n",
        "        x = F.relu(x)\n",
        "        x = self.conv_6(x)\n",
        "        x = self.bn_6(x)\n",
        "        x = F.relu(x)\n",
        "        x = self.pool(x)\n",
        "\n",
        "\n",
        "        x = torch.flatten(x, 1)\n",
        "        x = self.fc_1(x)\n",
        "        x = self.fc_2(x)\n",
        "\n",
        "        return x\n",
        "\n",
        "\n"
      ],
      "metadata": {
        "id": "XNV8YWuDql3w"
      },
      "execution_count": null,
      "outputs": []
    },
    {
      "cell_type": "code",
      "source": [
        "class Encoder(torch.nn.Module):\n",
        "    def __init__(self):\n",
        "        super().__init__()\n",
        "        self.conv_1 = torch.nn.Conv2d(1,4,kernel_size=5,padding=2)#[24,24,1]->[24,24,4]\n",
        "        self.bn_1 = torch.nn.BatchNorm2d(4)\n",
        "        self.pool = torch.nn.MaxPool2d(2,2)\n",
        "        self.conv_2 = torch.nn.Conv2d(4,8,kernel_size=3,padding=1)#[12,12,4]->[12,12,8]\n",
        "        self.bn_2 = torch.nn.BatchNorm2d(8)\n",
        "        self.conv_3 = torch.nn.Conv2d(8,16,kernel_size=3,padding=1)#[6,6,8]->[6,6,16]\n",
        "        self.bn_3 = torch.nn.BatchNorm2d(16)\n",
        "    def forward(self,x):\n",
        "        x = self.conv_1(x)\n",
        "        x = self.bn_1(x)\n",
        "        x = F.relu(x)\n",
        "        x = self.pool(x)\n",
        "\n",
        "        x = self.conv_2(x)\n",
        "        x = self.bn_2(x)\n",
        "        x = F.relu(x)\n",
        "        x = self.pool(x)\n",
        "\n",
        "        x = self.conv_3(x)\n",
        "        x = self.bn_3(x)\n",
        "        x = F.relu(x)\n",
        "        x = self.pool(x)\n",
        "        return x\n",
        "class TestModel(torch.nn.Module):\n",
        "    def __init__(self):\n",
        "        super().__init__()\n",
        "        self.encoder = Encoder()\n",
        "\n",
        "        self.fc_1 = torch.nn.Linear(3*3*16, 254)\n",
        "        self.fc_2 = torch.nn.Linear(254, 1)\n",
        "    def forward(self,x):\n",
        "        x = self.encoder(x)\n",
        "        x = torch.flatten(x, 1)\n",
        "        x = self.fc_1(x)\n",
        "        x = self.fc_2(x)\n",
        "        x = torch.sigmoid(x)\n",
        "        return x\n",
        "        "
      ],
      "metadata": {
        "id": "3jYndXtnVPUg"
      },
      "execution_count": null,
      "outputs": []
    },
    {
      "cell_type": "markdown",
      "source": [
        "Разметка для 5% изображений"
      ],
      "metadata": {
        "id": "GT9JF-QGym78"
      }
    },
    {
      "cell_type": "markdown",
      "source": [
        "Основная идея - сначала обучить декодер (расстояние между представителями одного класса должно уменьшаться, между представителями разных классов - увеличиваться)"
      ],
      "metadata": {
        "id": "Q6qO16OA3Cjc"
      }
    },
    {
      "cell_type": "code",
      "source": [
        "model = TestModel()\n",
        "model = model.to(device)\n",
        "criterion = torch.nn.BCEWithLogitsLoss()\n",
        "n_epoch = 40\n",
        "optimizer = torch.optim.Adam(model.parameters(), lr=0.00005)\n",
        "scheduler = torch.optim.lr_scheduler.ReduceLROnPlateau(optimizer, factor=0.1, patience=2)"
      ],
      "metadata": {
        "id": "gX8oiaPHnjAn"
      },
      "execution_count": null,
      "outputs": []
    },
    {
      "cell_type": "code",
      "source": [
        "def test_model(model,testloader):\n",
        "  total = 0\n",
        "  correct = 0\n",
        "  with torch.no_grad():\n",
        "      model.eval()\n",
        "      for data, labels in testloader:\n",
        "        labels=labels.to(device)\n",
        "        data = data.to(device)\n",
        "        outputs = model(data)\n",
        "        outputs = outputs.cpu().numpy()\n",
        "        outputs = np.round(outputs)\n",
        "        predicted = outputs\n",
        "        total += len(labels)\n",
        "        print(predicted[:,0])\n",
        "        print(labels.cpu().reshape(-1).numpy())\n",
        "        print(list(np.equal(predicted,labels.cpu().reshape(-1).numpy())))\n",
        "        correct += list(np.equal(predicted,labels.cpu().reshape(-1).numpy())).count(True)\n",
        "                  \n",
        "  accuracy = correct / total\n",
        "  return accuracy"
      ],
      "metadata": {
        "id": "weWfNRMmxtDx"
      },
      "execution_count": null,
      "outputs": []
    },
    {
      "cell_type": "code",
      "source": [
        "model.train()\n",
        "train_loss = []\n",
        "train_losses = []\n",
        "train_acc = []\n",
        "test_acc = []\n",
        "for epoch in range(n_epoch):\n",
        "    for i, (data, target) in enumerate(trainloader):\n",
        "        data, target = data.to(device), target.to(device)\n",
        "        optimizer.zero_grad()\n",
        "        output = model(data).squeeze()\n",
        "        loss = criterion(output, target)\n",
        "        loss.backward()       \n",
        "        optimizer.step()\n",
        "\n",
        "        train_loss.append(loss.item())\n",
        "    scheduler.step(np.mean(train_loss))\n",
        "\n",
        "\n",
        "    print(f\" Номер эпохи: {epoch+1}, Трейн лосс: {np.mean(train_loss)}, Текущий лернинг рейт: {optimizer.param_groups[0]['lr']} \")\n",
        "    train_losses.append(np.mean(train_loss))\n",
        "torch.save(model.state_dict(),'/content/drive/MyDrive/test_model.pth')"
      ],
      "metadata": {
        "colab": {
          "base_uri": "https://localhost:8080/"
        },
        "id": "A28LRw3rwtyK",
        "outputId": "965df07f-3b3a-46ee-fee8-8ae1cd3e4ecb"
      },
      "execution_count": null,
      "outputs": [
        {
          "output_type": "stream",
          "name": "stdout",
          "text": [
            " Номер эпохи: 1, Трейн лосс: 0.7024545268261735, Текущий лернинг рейт: 5e-05 \n",
            " Номер эпохи: 2, Трейн лосс: 0.696518104218874, Текущий лернинг рейт: 5e-05 \n",
            " Номер эпохи: 3, Трейн лосс: 0.6884019813842878, Текущий лернинг рейт: 5e-05 \n",
            " Номер эпохи: 4, Трейн лосс: 0.6784352683640263, Текущий лернинг рейт: 5e-05 \n",
            " Номер эпохи: 5, Трейн лосс: 0.6680802317369849, Текущий лернинг рейт: 5e-05 \n",
            " Номер эпохи: 6, Трейн лосс: 0.6585137431522882, Текущий лернинг рейт: 5e-05 \n",
            " Номер эпохи: 7, Трейн лосс: 0.6500839254506952, Текущий лернинг рейт: 5e-05 \n",
            " Номер эпохи: 8, Трейн лосс: 0.6429439227735353, Текущий лернинг рейт: 5e-05 \n",
            " Номер эпохи: 9, Трейн лосс: 0.6367608710744007, Текущий лернинг рейт: 5e-05 \n",
            " Номер эпохи: 10, Трейн лосс: 0.6313337754106814, Текущий лернинг рейт: 5e-05 \n",
            " Номер эпохи: 11, Трейн лосс: 0.626541671921869, Текущий лернинг рейт: 5e-05 \n",
            " Номер эпохи: 12, Трейн лосс: 0.6222584033006603, Текущий лернинг рейт: 5e-05 \n",
            " Номер эпохи: 13, Трейн лосс: 0.6183573522066348, Текущий лернинг рейт: 5e-05 \n",
            " Номер эпохи: 14, Трейн лосс: 0.6148499907530328, Текущий лернинг рейт: 5e-05 \n",
            " Номер эпохи: 15, Трейн лосс: 0.6116078746200703, Текущий лернинг рейт: 5e-05 \n",
            " Номер эпохи: 16, Трейн лосс: 0.6087127846035111, Текущий лернинг рейт: 5e-05 \n",
            " Номер эпохи: 17, Трейн лосс: 0.6060593551374619, Текущий лернинг рейт: 5e-05 \n",
            " Номер эпохи: 18, Трейн лосс: 0.6036025786149152, Текущий лернинг рейт: 5e-05 \n",
            " Номер эпохи: 19, Трейн лосс: 0.6013179348185068, Текущий лернинг рейт: 5e-05 \n",
            " Номер эпохи: 20, Трейн лосс: 0.5991798202619106, Текущий лернинг рейт: 5e-05 \n",
            " Номер эпохи: 21, Трейн лосс: 0.597147091774714, Текущий лернинг рейт: 5e-05 \n",
            " Номер эпохи: 22, Трейн лосс: 0.5952565342839115, Текущий лернинг рейт: 5e-05 \n",
            " Номер эпохи: 23, Трейн лосс: 0.5934845810150938, Текущий лернинг рейт: 5e-05 \n",
            " Номер эпохи: 24, Трейн лосс: 0.591806014366076, Текущий лернинг рейт: 5e-05 \n",
            " Номер эпохи: 25, Трейн лосс: 0.5901984824887528, Текущий лернинг рейт: 5e-05 \n",
            " Номер эпохи: 26, Трейн лосс: 0.5887126397055934, Текущий лернинг рейт: 5e-05 \n",
            " Номер эпохи: 27, Трейн лосс: 0.5872621349317491, Текущий лернинг рейт: 5e-05 \n",
            " Номер эпохи: 28, Трейн лосс: 0.585920154479971, Текущий лернинг рейт: 5e-05 \n",
            " Номер эпохи: 29, Трейн лосс: 0.5846329220929787, Текущий лернинг рейт: 5e-05 \n",
            " Номер эпохи: 30, Трейн лосс: 0.5834631507188781, Текущий лернинг рейт: 5e-05 \n",
            " Номер эпохи: 31, Трейн лосс: 0.5822817013331251, Текущий лернинг рейт: 5e-05 \n",
            " Номер эпохи: 32, Трейн лосс: 0.5811385574552269, Текущий лернинг рейт: 5e-05 \n",
            " Номер эпохи: 33, Трейн лосс: 0.5800835623544295, Текущий лернинг рейт: 5e-05 \n",
            " Номер эпохи: 34, Трейн лосс: 0.5790614890361762, Текущий лернинг рейт: 5e-05 \n",
            " Номер эпохи: 35, Трейн лосс: 0.5780847244413312, Текущий лернинг рейт: 5e-05 \n",
            " Номер эпохи: 36, Трейн лосс: 0.5771121336107379, Текущий лернинг рейт: 5e-05 \n",
            " Номер эпохи: 37, Трейн лосс: 0.5762229664098198, Текущий лернинг рейт: 5e-05 \n",
            " Номер эпохи: 38, Трейн лосс: 0.5753490747968083, Текущий лернинг рейт: 5e-05 \n",
            " Номер эпохи: 39, Трейн лосс: 0.5744914117164787, Текущий лернинг рейт: 5e-05 \n",
            " Номер эпохи: 40, Трейн лосс: 0.5737245327206224, Текущий лернинг рейт: 5e-05 \n"
          ]
        }
      ]
    },
    {
      "cell_type": "code",
      "source": [
        "model.encoder.requires_grad_(False)"
      ],
      "metadata": {
        "id": "Jwj7rfTa0ll-",
        "colab": {
          "base_uri": "https://localhost:8080/"
        },
        "outputId": "5525d442-96b1-4d54-fec3-9138489d38e4"
      },
      "execution_count": null,
      "outputs": [
        {
          "output_type": "execute_result",
          "data": {
            "text/plain": [
              "Encoder(\n",
              "  (conv_1): Conv2d(1, 4, kernel_size=(5, 5), stride=(1, 1), padding=(2, 2))\n",
              "  (bn_1): BatchNorm2d(4, eps=1e-05, momentum=0.1, affine=True, track_running_stats=True)\n",
              "  (pool): MaxPool2d(kernel_size=2, stride=2, padding=0, dilation=1, ceil_mode=False)\n",
              "  (conv_2): Conv2d(4, 8, kernel_size=(3, 3), stride=(1, 1), padding=(1, 1))\n",
              "  (bn_2): BatchNorm2d(8, eps=1e-05, momentum=0.1, affine=True, track_running_stats=True)\n",
              "  (conv_3): Conv2d(8, 16, kernel_size=(3, 3), stride=(1, 1), padding=(1, 1))\n",
              "  (bn_3): BatchNorm2d(16, eps=1e-05, momentum=0.1, affine=True, track_running_stats=True)\n",
              ")"
            ]
          },
          "metadata": {},
          "execution_count": 103
        }
      ]
    },
    {
      "cell_type": "code",
      "source": [],
      "metadata": {
        "id": "zDom2Kl6XrwU"
      },
      "execution_count": null,
      "outputs": []
    }
  ]
}