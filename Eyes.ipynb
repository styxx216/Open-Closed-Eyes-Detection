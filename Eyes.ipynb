{
  "nbformat": 4,
  "nbformat_minor": 0,
  "metadata": {
    "colab": {
      "provenance": [],
      "gpuType": "T4",
      "include_colab_link": true
    },
    "kernelspec": {
      "name": "python3",
      "display_name": "Python 3"
    },
    "language_info": {
      "name": "python"
    },
    "gpuClass": "standard",
    "accelerator": "GPU"
  },
  "cells": [
    {
      "cell_type": "markdown",
      "metadata": {
        "id": "view-in-github",
        "colab_type": "text"
      },
      "source": [
        "<a href=\"https://colab.research.google.com/github/styxx216/EYES_TEST/blob/main/Eyes.ipynb\" target=\"_parent\"><img src=\"https://colab.research.google.com/assets/colab-badge.svg\" alt=\"Open In Colab\"/></a>"
      ]
    },
    {
      "cell_type": "code",
      "execution_count": 44,
      "metadata": {
        "id": "JMQjOzsngsMY"
      },
      "outputs": [],
      "source": [
        "import pandas\n",
        "import torch\n",
        "import torchvision\n",
        "from torchvision import models, transforms\n",
        "import numpy as np\n",
        "import matplotlib.pyplot as plt\n",
        "from torch.utils.data import Dataset\n",
        "import torch.nn.functional as F\n",
        "import os\n",
        "import cv2\n",
        "import albumentations\n",
        "from albumentations import pytorch as AT\n",
        "import random\n",
        "import pandas as pd\n",
        "\n",
        "from sklearn.cluster import KMeans\n",
        "import sklearn\n",
        "from pathlib import Path\n",
        "%matplotlib inline"
      ]
    },
    {
      "cell_type": "code",
      "source": [
        "device = torch.device('cuda' if torch.cuda.is_available() else 'cpu')\n",
        "print(device)"
      ],
      "metadata": {
        "colab": {
          "base_uri": "https://localhost:8080/"
        },
        "id": "feol2ZeEpz8I",
        "outputId": "fdc94574-76cb-434f-ce6b-e7100667c22a"
      },
      "execution_count": 3,
      "outputs": [
        {
          "output_type": "stream",
          "name": "stdout",
          "text": [
            "cuda\n"
          ]
        }
      ]
    },
    {
      "cell_type": "code",
      "source": [
        "BATH_SIZE = 8"
      ],
      "metadata": {
        "id": "RW8w9Wm4rEzZ"
      },
      "execution_count": 4,
      "outputs": []
    },
    {
      "cell_type": "code",
      "source": [
        "from google.colab import drive\n",
        "drive.mount('/content/drive')"
      ],
      "metadata": {
        "id": "7KUiePY6b7QE",
        "colab": {
          "base_uri": "https://localhost:8080/"
        },
        "outputId": "131ca526-0177-40ca-95a3-7ffdcb22b7ba"
      },
      "execution_count": 5,
      "outputs": [
        {
          "output_type": "stream",
          "name": "stdout",
          "text": [
            "Mounted at /content/drive\n"
          ]
        }
      ]
    },
    {
      "cell_type": "code",
      "source": [
        "PATH_TO_TRAIN_DATA = '/content/drive/MyDrive/TEST_TASK/train'\n",
        "#PATH_TO_TRAIN_DATA='https://drive.google.com/uc?id=' + url.split('/')[-2]\n",
        "url = 'https://drive.google.com/file/d/1ocYoFBuzQwVQu_XBes0x6IWkOlY7i9ww/view?usp=sharing'\n",
        "PATH_TO_LABELS = 'https://drive.google.com/uc?id=' + url.split('/')[-2]"
      ],
      "metadata": {
        "id": "ilUars1Az9U7"
      },
      "execution_count": 7,
      "outputs": []
    },
    {
      "cell_type": "code",
      "source": [
        "class dataset(Dataset):\n",
        "    def __init__(self, path,transform=None):\n",
        "        self.path = path\n",
        "        self.transform = transform\n",
        "    def __len__(self):\n",
        "        res = len(os.listdir(self.path))\n",
        "        return res\n",
        "    def __getitem__(self,idx):\n",
        "        path = os.path.join(self.path, os.listdir(self.path)[idx])\n",
        "        image = cv2.imread(path,0)\n",
        "        if self.transform:\n",
        "            augmented = self.transform(image=image)\n",
        "            image = augmented[\"image\"]\n",
        "        image = torch.tensor(image).float().to(device)\n",
        "        image = torch.unsqueeze(image, 0)\n",
        "        return image, path"
      ],
      "metadata": {
        "id": "HnGqfeqNp3AE"
      },
      "execution_count": 8,
      "outputs": []
    },
    {
      "cell_type": "code",
      "source": [
        "class labeled_dataset(Dataset):\n",
        "    def __init__(self, path,path_to_labels,transform=None):\n",
        "        self.path = path\n",
        "        self.transform = transform\n",
        "        self.df = pd.read_csv(path_to_labels)\n",
        "        self.df = self.df[self.df.marks.notnull()]\n",
        "    def __len__(self):\n",
        "        res = len(self.df)\n",
        "        return res\n",
        "    def __getitem__(self,idx):\n",
        "        t = self.df.iloc[idx]\n",
        "        path = os.path.join(self.path, t['pathes'])\n",
        "        image = cv2.imread(path,0)\n",
        "        if self.transform:\n",
        "            augmented = self.transform(image=image)\n",
        "            image = augmented[\"image\"]\n",
        "        image = torch.tensor(image).float().to(device)/255\n",
        "        image = torch.unsqueeze(image, 0)\n",
        "        label = t.marks\n",
        "        return image, label"
      ],
      "metadata": {
        "id": "eMt1Z5Aueq4A"
      },
      "execution_count": 9,
      "outputs": []
    },
    {
      "cell_type": "code",
      "source": [
        "data_transformation = albumentations.Compose([\n",
        "    albumentations.RandomBrightnessContrast(p=0.5),\n",
        "    albumentations.HorizontalFlip()\n",
        "    ])"
      ],
      "metadata": {
        "id": "sTjCpzVnpvwV"
      },
      "execution_count": 10,
      "outputs": []
    },
    {
      "cell_type": "code",
      "source": [
        "img_set = labeled_dataset(PATH_TO_TRAIN_DATA,PATH_TO_LABELS, transform = data_transformation)"
      ],
      "metadata": {
        "id": "Ugcb6CvK4IxZ"
      },
      "execution_count": 11,
      "outputs": []
    },
    {
      "cell_type": "code",
      "source": [
        "plt.imshow(img_set[0][0].cpu()[0], cmap = 'gray')"
      ],
      "metadata": {
        "colab": {
          "base_uri": "https://localhost:8080/",
          "height": 448
        },
        "id": "A41Dpepsn1bZ",
        "outputId": "38247e72-10c5-465e-c47e-4c3b7ea23895"
      },
      "execution_count": 12,
      "outputs": [
        {
          "output_type": "execute_result",
          "data": {
            "text/plain": [
              "<matplotlib.image.AxesImage at 0x7f52f2f1be50>"
            ]
          },
          "metadata": {},
          "execution_count": 12
        },
        {
          "output_type": "display_data",
          "data": {
            "text/plain": [
              "<Figure size 640x480 with 1 Axes>"
            ],
            "image/png": "[encoded data removed]"
          },
          "metadata": {}
        }
      ]
    },
    {
      "cell_type": "code",
      "source": [
        "train_set, test_set = sklearn.model_selection.train_test_split(img_set,test_size=0.1)"
      ],
      "metadata": {
        "id": "Mn-nAADt9eu-"
      },
      "execution_count": 13,
      "outputs": []
    },
    {
      "cell_type": "code",
      "source": [
        "trainloader = torch.utils.data.DataLoader(train_set, \n",
        "                                        batch_size=BATH_SIZE, shuffle=True)\n",
        "testloader = torch.utils.data.DataLoader(test_set, \n",
        "                                        batch_size=1, shuffle=True)"
      ],
      "metadata": {
        "id": "QMolLMjx5wvs"
      },
      "execution_count": 14,
      "outputs": []
    },
    {
      "cell_type": "code",
      "source": [
        "class MyModel(torch.nn.Module):\n",
        "    def __init__(self):\n",
        "        super().__init__()\n",
        "        self.conv_1 = torch.nn.Conv2d(1,8,kernel_size=5,padding=2)#[24,24,1]->[24,24,8]\n",
        "        self.bn_1 = torch.nn.BatchNorm2d(8)\n",
        "        self.conv_2 = torch.nn.Conv2d(8,16,kernel_size=5,padding=2)#[24,24,8]->[24,24,16]\n",
        "        self.bn_2 = torch.nn.BatchNorm2d(16)\n",
        "        self.pool = torch.nn.MaxPool2d(2,2)\n",
        "        self.conv_3 = torch.nn.Conv2d(16,32,kernel_size=3,padding=1)#[12,12,16]->[12,12,32]\n",
        "        self.bn_3 = torch.nn.BatchNorm2d(32)\n",
        "        self.conv_4 = torch.nn.Conv2d(32,64,kernel_size=3,padding=1)#[12,12,32]->[12,12,64]\n",
        "        self.bn_4 = torch.nn.BatchNorm2d(64)\n",
        "        self.conv_5 = torch.nn.Conv2d(64,128,kernel_size=3,padding=1)#[6,6,64]->[6,6,128]\n",
        "        self.bn_5 = torch.nn.BatchNorm2d(128)\n",
        "        self.conv_6 = torch.nn.Conv2d(128,256,kernel_size=3,padding=1)#[6,6,128]->[6,6,256]\n",
        "        self.bn_6 = torch.nn.BatchNorm2d(256)\n",
        "        #[3,3,256]\n",
        "        self.fc_1 = torch.nn.Linear(3*3*256, 1024)\n",
        "        self.fc_2 = torch.nn.Linear(1024, 1)\n",
        "    def forward(self,x):\n",
        "        x = self.conv_1(x)\n",
        "        x = self.bn_1(x)\n",
        "        x = F.relu(x)\n",
        "        x = self.conv_2(x)\n",
        "        x = self.bn_2(x)\n",
        "        x = F.relu(x)\n",
        "        x = self.pool(x)\n",
        "        x = self.conv_3(x)\n",
        "        x = self.bn_3(x)\n",
        "        x = F.relu(x)\n",
        "        x = self.conv_4(x)\n",
        "        x = self.bn_4(x)\n",
        "        x = F.relu(x)\n",
        "        x = self.pool(x)\n",
        "        x = self.conv_5(x)\n",
        "        x = self.bn_5(x)\n",
        "        x = F.relu(x)\n",
        "        x = self.conv_6(x)\n",
        "        x = self.bn_6(x)\n",
        "        x = F.relu(x)\n",
        "        x = self.pool(x)\n",
        "\n",
        "\n",
        "        x = torch.flatten(x, 1)\n",
        "        x = self.fc_1(x)\n",
        "        x = torch.sigmoid(x)\n",
        "        x = self.fc_2(x)\n",
        "        x = torch.sigmoid(x)\n",
        "\n",
        "        return x\n",
        "\n",
        "\n"
      ],
      "metadata": {
        "id": "XNV8YWuDql3w"
      },
      "execution_count": 15,
      "outputs": []
    },
    {
      "cell_type": "code",
      "source": [
        "class Encoder(torch.nn.Module):\n",
        "    def __init__(self):\n",
        "        super().__init__()\n",
        "        self.conv_1 = torch.nn.Conv2d(1,4,kernel_size=5,padding=2)#[24,24,1]->[24,24,4]\n",
        "        self.bn_1 = torch.nn.BatchNorm2d(4)\n",
        "        self.pool = torch.nn.MaxPool2d(2,2)\n",
        "        self.conv_2 = torch.nn.Conv2d(4,8,kernel_size=3,padding=1)#[12,12,4]->[12,12,8]\n",
        "        self.bn_2 = torch.nn.BatchNorm2d(8)\n",
        "        self.conv_3 = torch.nn.Conv2d(8,16,kernel_size=3,padding=1)#[6,6,8]->[6,6,16]\n",
        "        self.bn_3 = torch.nn.BatchNorm2d(16)\n",
        "        \n",
        "        self.dropout = torch.nn.Dropout()\n",
        "    def forward(self,x):\n",
        "        x = self.conv_1(x)\n",
        "        x = self.bn_1(x)\n",
        "        x = F.relu(x)\n",
        "        x = self.pool(x)\n",
        "\n",
        "        x = self.dropout(x)\n",
        "\n",
        "        x = self.conv_2(x)\n",
        "        x = self.bn_2(x)\n",
        "        x = F.relu(x)\n",
        "        x = self.pool(x)\n",
        "\n",
        "        x = self.dropout(x)\n",
        "\n",
        "        x = self.conv_3(x)\n",
        "        x = self.bn_3(x)\n",
        "        x = F.relu(x)\n",
        "        x = self.pool(x)\n",
        "        return x\n",
        "class TestModel(torch.nn.Module):\n",
        "    def __init__(self):\n",
        "        super().__init__()\n",
        "        self.encoder = Encoder()\n",
        "\n",
        "        self.fc_1 = torch.nn.Linear(3*3*16, 512)\n",
        "        self.fc_2 = torch.nn.Linear(512, 1)\n",
        "        self.dropout = torch.nn.Dropout()\n",
        "    def forward(self,x):\n",
        "        x = self.encoder(x)\n",
        "        x = torch.flatten(x, 1)\n",
        "        x = self.dropout(x)\n",
        "        x = self.fc_1(x)\n",
        "        x = torch.sigmoid(x)\n",
        "        x = self.dropout(x)\n",
        "        x = self.fc_2(x)\n",
        "        x = torch.sigmoid(x)\n",
        "\n",
        "        return x\n",
        "        "
      ],
      "metadata": {
        "id": "3jYndXtnVPUg"
      },
      "execution_count": 16,
      "outputs": []
    },
    {
      "cell_type": "code",
      "source": [
        "model =TestModel()\n",
        "model = model.to(device)\n",
        "criterion = torch.nn.BCEWithLogitsLoss()\n",
        "n_epoch = 100\n",
        "optimizer = torch.optim.Adam(model.parameters(), lr=0.0001)\n",
        "scheduler = torch.optim.lr_scheduler.ReduceLROnPlateau(optimizer, factor=0.1, patience=2)"
      ],
      "metadata": {
        "id": "gX8oiaPHnjAn"
      },
      "execution_count": 17,
      "outputs": []
    },
    {
      "cell_type": "code",
      "source": [
        "def test_model(model,testloader):\n",
        "  total = 0\n",
        "  correct = 0\n",
        "  with torch.no_grad():\n",
        "      model.eval()\n",
        "      for data, labels in testloader:\n",
        "        labels=labels.to(device)\n",
        "        data = data.to(device)\n",
        "        outputs = model(data)\n",
        "        predicted = torch.round(outputs)\n",
        "        predicted=torch.reshape(predicted, (-1,))\n",
        "        correct+=torch.eq(labels,predicted).sum()\n",
        "        total+=len(labels)\n",
        "                  \n",
        "  accuracy = correct / total\n",
        "  return accuracy"
      ],
      "metadata": {
        "id": "weWfNRMmxtDx"
      },
      "execution_count": 18,
      "outputs": []
    },
    {
      "cell_type": "code",
      "source": [
        "model.train()\n",
        "train_loss = []\n",
        "train_losses = []\n",
        "train_acc = []\n",
        "test_acc = []\n",
        "max_acc = 0\n",
        "for epoch in range(n_epoch):\n",
        "    for i, (data, target) in enumerate(trainloader):\n",
        "        data, target = data.to(device), target.to(device)\n",
        "        optimizer.zero_grad()\n",
        "        output = model(data).squeeze()\n",
        "        loss = criterion(output, target)\n",
        "        loss.backward()       \n",
        "        optimizer.step()\n",
        "\n",
        "        train_loss.append(loss.item())\n",
        "    scheduler.step(np.mean(train_loss))\n",
        "    current_test_acc = test_model(model,testloader)\n",
        "    current_train_acc = test_model(model,trainloader)\n",
        "    test_acc.append(current_test_acc)\n",
        "    train_acc.append(current_train_acc)\n",
        "    if current_test_acc > max_acc:\n",
        "      max_acc = current_test_acc\n",
        "      torch.save(model.state_dict(),'/content/drive/MyDrive/test_model.pth')\n",
        "    print(f\" Epoch: {epoch+1}, train loss: {np.mean(train_loss)}, learning rate: {optimizer.param_groups[0]['lr']} \")\n",
        "    train_losses.append(np.mean(train_loss))\n"
      ],
      "metadata": {
        "colab": {
          "base_uri": "https://localhost:8080/"
        },
        "id": "A28LRw3rwtyK",
        "outputId": "837f2585-fc10-448d-ccd8-9369e7bf5852"
      },
      "execution_count": 19,
      "outputs": [
        {
          "output_type": "stream",
          "name": "stdout",
          "text": [
            " Epoch: 1, train loss: 0.7032108985518547, learning rate: 0.0001 \n",
            " Epoch: 2, train loss: 0.6986077127848281, learning rate: 0.0001 \n",
            " Epoch: 3, train loss: 0.6962974155365422, learning rate: 0.0001 \n",
            " Epoch: 4, train loss: 0.6946268314211598, learning rate: 0.0001 \n",
            " Epoch: 5, train loss: 0.6929955466476996, learning rate: 0.0001 \n",
            " Epoch: 6, train loss: 0.6915010812348776, learning rate: 0.0001 \n",
            " Epoch: 7, train loss: 0.6894515936729418, learning rate: 0.0001 \n",
            " Epoch: 8, train loss: 0.686429057839179, learning rate: 0.0001 \n",
            " Epoch: 9, train loss: 0.6824148738841637, learning rate: 0.0001 \n",
            " Epoch: 10, train loss: 0.6777955284424168, learning rate: 0.0001 \n",
            " Epoch: 11, train loss: 0.6730622117206282, learning rate: 0.0001 \n",
            " Epoch: 12, train loss: 0.6685206599842545, learning rate: 0.0001 \n",
            " Epoch: 13, train loss: 0.6642151789842041, learning rate: 0.0001 \n",
            " Epoch: 14, train loss: 0.6601733274063133, learning rate: 0.0001 \n",
            " Epoch: 15, train loss: 0.6564865899982459, learning rate: 0.0001 \n",
            " Epoch: 16, train loss: 0.6529786964404938, learning rate: 0.0001 \n",
            " Epoch: 17, train loss: 0.6496766651969509, learning rate: 0.0001 \n",
            " Epoch: 18, train loss: 0.64673633822435, learning rate: 0.0001 \n",
            " Epoch: 19, train loss: 0.6437818339201363, learning rate: 0.0001 \n",
            " Epoch: 20, train loss: 0.6411645634042079, learning rate: 0.0001 \n",
            " Epoch: 21, train loss: 0.6386601713611958, learning rate: 0.0001 \n",
            " Epoch: 22, train loss: 0.636250134021475, learning rate: 0.0001 \n",
            " Epoch: 23, train loss: 0.6339373521995402, learning rate: 0.0001 \n",
            " Epoch: 24, train loss: 0.6317224551656764, learning rate: 0.0001 \n",
            " Epoch: 25, train loss: 0.6296375387898894, learning rate: 0.0001 \n",
            " Epoch: 26, train loss: 0.6276745469370556, learning rate: 0.0001 \n",
            " Epoch: 27, train loss: 0.6258099077041336, learning rate: 0.0001 \n",
            " Epoch: 28, train loss: 0.6239568890567156, learning rate: 0.0001 \n",
            " Epoch: 29, train loss: 0.6221510979267536, learning rate: 0.0001 \n",
            " Epoch: 30, train loss: 0.6204384672766915, learning rate: 0.0001 \n",
            " Epoch: 31, train loss: 0.6187846963324014, learning rate: 0.0001 \n",
            " Epoch: 32, train loss: 0.6172184290627764, learning rate: 0.0001 \n",
            " Epoch: 33, train loss: 0.6156967912169997, learning rate: 0.0001 \n",
            " Epoch: 34, train loss: 0.6142152608204403, learning rate: 0.0001 \n",
            " Epoch: 35, train loss: 0.6127838638459467, learning rate: 0.0001 \n",
            " Epoch: 36, train loss: 0.6114155634444665, learning rate: 0.0001 \n",
            " Epoch: 37, train loss: 0.6100853271682185, learning rate: 0.0001 \n",
            " Epoch: 38, train loss: 0.6088099277073886, learning rate: 0.0001 \n",
            " Epoch: 39, train loss: 0.6075610013311303, learning rate: 0.0001 \n",
            " Epoch: 40, train loss: 0.6063647196145346, learning rate: 0.0001 \n",
            " Epoch: 41, train loss: 0.6052092028567315, learning rate: 0.0001 \n",
            " Epoch: 42, train loss: 0.6040981123259291, learning rate: 0.0001 \n",
            " Epoch: 43, train loss: 0.6030191922250667, learning rate: 0.0001 \n",
            " Epoch: 44, train loss: 0.6020194971580309, learning rate: 0.0001 \n",
            " Epoch: 45, train loss: 0.6010047157458442, learning rate: 0.0001 \n",
            " Epoch: 46, train loss: 0.6000226566514755, learning rate: 0.0001 \n",
            " Epoch: 47, train loss: 0.5990770121611938, learning rate: 0.0001 \n",
            " Epoch: 48, train loss: 0.5981466314935696, learning rate: 0.0001 \n",
            " Epoch: 49, train loss: 0.5972864439651495, learning rate: 0.0001 \n",
            " Epoch: 50, train loss: 0.5964362533528902, learning rate: 0.0001 \n",
            " Epoch: 51, train loss: 0.5956117308664842, learning rate: 0.0001 \n",
            " Epoch: 52, train loss: 0.5947870472507186, learning rate: 0.0001 \n",
            " Epoch: 53, train loss: 0.5939975754358214, learning rate: 0.0001 \n",
            " Epoch: 54, train loss: 0.5932197195637986, learning rate: 0.0001 \n",
            " Epoch: 55, train loss: 0.5924719769337069, learning rate: 0.0001 \n",
            " Epoch: 56, train loss: 0.5917617887571827, learning rate: 0.0001 \n",
            " Epoch: 57, train loss: 0.5910457791770606, learning rate: 0.0001 \n",
            " Epoch: 58, train loss: 0.590357706389272, learning rate: 0.0001 \n",
            " Epoch: 59, train loss: 0.5896643325772079, learning rate: 0.0001 \n",
            " Epoch: 60, train loss: 0.5890006827384687, learning rate: 0.0001 \n",
            " Epoch: 61, train loss: 0.5883570158170124, learning rate: 0.0001 \n",
            " Epoch: 62, train loss: 0.5877301710458614, learning rate: 0.0001 \n",
            " Epoch: 63, train loss: 0.5870987998142062, learning rate: 0.0001 \n",
            " Epoch: 64, train loss: 0.5864860743851933, learning rate: 0.0001 \n",
            " Epoch: 65, train loss: 0.5858858862690909, learning rate: 0.0001 \n",
            " Epoch: 66, train loss: 0.5853159157117178, learning rate: 0.0001 \n",
            " Epoch: 67, train loss: 0.5847668450128929, learning rate: 0.0001 \n",
            " Epoch: 68, train loss: 0.584238128106826, learning rate: 0.0001 \n",
            " Epoch: 69, train loss: 0.5836954715252675, learning rate: 0.0001 \n",
            " Epoch: 70, train loss: 0.5831597832664729, learning rate: 0.0001 \n",
            " Epoch: 71, train loss: 0.5826356537644503, learning rate: 0.0001 \n",
            " Epoch: 72, train loss: 0.582116015583478, learning rate: 0.0001 \n",
            " Epoch: 73, train loss: 0.5816093301278932, learning rate: 0.0001 \n",
            " Epoch: 74, train loss: 0.5811141133713922, learning rate: 0.0001 \n",
            " Epoch: 75, train loss: 0.5806322601144497, learning rate: 0.0001 \n",
            " Epoch: 76, train loss: 0.5801643071846596, learning rate: 0.0001 \n",
            " Epoch: 77, train loss: 0.5797001533708094, learning rate: 0.0001 \n",
            " Epoch: 78, train loss: 0.5792541523178494, learning rate: 0.0001 \n",
            " Epoch: 79, train loss: 0.5788196374939222, learning rate: 0.0001 \n",
            " Epoch: 80, train loss: 0.5783751535820112, learning rate: 0.0001 \n",
            " Epoch: 81, train loss: 0.5779541413483525, learning rate: 0.0001 \n",
            " Epoch: 82, train loss: 0.5775275960683652, learning rate: 0.0001 \n",
            " Epoch: 83, train loss: 0.5771141441744453, learning rate: 0.0001 \n",
            " Epoch: 84, train loss: 0.5767021265891287, learning rate: 0.0001 \n",
            " Epoch: 85, train loss: 0.5763068359208585, learning rate: 0.0001 \n",
            " Epoch: 86, train loss: 0.5759179798081625, learning rate: 0.0001 \n",
            " Epoch: 87, train loss: 0.5755270977257029, learning rate: 0.0001 \n",
            " Epoch: 88, train loss: 0.575141593765307, learning rate: 0.0001 \n",
            " Epoch: 89, train loss: 0.5747637960771836, learning rate: 0.0001 \n",
            " Epoch: 90, train loss: 0.5743911686235128, learning rate: 0.0001 \n",
            " Epoch: 91, train loss: 0.5740202087876007, learning rate: 0.0001 \n",
            " Epoch: 92, train loss: 0.5736551484943754, learning rate: 0.0001 \n",
            " Epoch: 93, train loss: 0.5732853697776421, learning rate: 0.0001 \n",
            " Epoch: 94, train loss: 0.5729373910410194, learning rate: 0.0001 \n",
            " Epoch: 95, train loss: 0.5725915647466814, learning rate: 0.0001 \n",
            " Epoch: 96, train loss: 0.5722519935105248, learning rate: 0.0001 \n",
            " Epoch: 97, train loss: 0.5719161194249386, learning rate: 0.0001 \n",
            " Epoch: 98, train loss: 0.5715924313457718, learning rate: 0.0001 \n",
            " Epoch: 99, train loss: 0.5712667062152713, learning rate: 0.0001 \n",
            " Epoch: 100, train loss: 0.5709403516057728, learning rate: 0.0001 \n"
          ]
        }
      ]
    },
    {
      "cell_type": "code",
      "source": [
        "test_model(model,trainloader)"
      ],
      "metadata": {
        "id": "K7vhff3a2O7D",
        "colab": {
          "base_uri": "https://localhost:8080/"
        },
        "outputId": "18b641fd-3609-492b-a6e2-a7f32f0505ce"
      },
      "execution_count": 20,
      "outputs": [
        {
          "output_type": "execute_result",
          "data": {
            "text/plain": [
              "tensor(0.9432, device='cuda:0')"
            ]
          },
          "metadata": {},
          "execution_count": 20
        }
      ]
    },
    {
      "cell_type": "code",
      "source": [
        "test_model(model,testloader)"
      ],
      "metadata": {
        "colab": {
          "base_uri": "https://localhost:8080/"
        },
        "id": "mqhbp5XbyTqg",
        "outputId": "da538dc6-5f66-4c4d-ba26-395dcc4082b8"
      },
      "execution_count": 21,
      "outputs": [
        {
          "output_type": "execute_result",
          "data": {
            "text/plain": [
              "tensor(0.9080, device='cuda:0')"
            ]
          },
          "metadata": {},
          "execution_count": 21
        }
      ]
    },
    {
      "cell_type": "code",
      "source": [
        "test_acc = list(map(float,test_acc))\n",
        "train_acc = list(map(float,train_acc))"
      ],
      "metadata": {
        "id": "e6OMfO_oXG2Q"
      },
      "execution_count": 22,
      "outputs": []
    },
    {
      "cell_type": "code",
      "source": [
        "plt.plot(train_acc)\n",
        "plt.plot(test_acc)\n",
        "plt.grid(True)\n",
        "plt.show()"
      ],
      "metadata": {
        "colab": {
          "base_uri": "https://localhost:8080/",
          "height": 430
        },
        "id": "CxReHD3VxUys",
        "outputId": "c0957955-1bf5-4818-f1c3-451cd89a3f7a"
      },
      "execution_count": 23,
      "outputs": [
        {
          "output_type": "display_data",
          "data": {
            "text/plain": [
              "<Figure size 640x480 with 1 Axes>"
            ],
            "image/png": "[encoded data removed]"
          },
          "metadata": {}
        }
      ]
    },
    {
      "cell_type": "code",
      "source": [
        "plt.plot(train_acc)\n",
        "plt.plot(test_acc)\n",
        "plt.show()"
      ],
      "metadata": {
        "colab": {
          "base_uri": "https://localhost:8080/",
          "height": 430
        },
        "id": "_1M1V-4imMDK",
        "outputId": "a7edcc48-db64-41da-95ae-43885dd0bb10"
      },
      "execution_count": 24,
      "outputs": [
        {
          "output_type": "display_data",
          "data": {
            "text/plain": [
              "<Figure size 640x480 with 1 Axes>"
            ],
            "image/png": "[encoded data removed]"
          },
          "metadata": {}
        }
      ]
    },
    {
      "cell_type": "code",
      "source": [
        "plt.plot(train_acc)\n",
        "plt.plot(test_acc)\n",
        "plt.show()"
      ],
      "metadata": {
        "colab": {
          "base_uri": "https://localhost:8080/",
          "height": 430
        },
        "id": "rm_LQC1QpV2B",
        "outputId": "ed2618a2-b92c-4e86-81d6-4dce1c4edf3e"
      },
      "execution_count": null,
      "outputs": [
        {
          "output_type": "display_data",
          "data": {
            "text/plain": [
              "<Figure size 640x480 with 1 Axes>"
            ],
            "image/png": "[encoded data removed]"
          },
          "metadata": {}
        }
      ]
    },
    {
      "cell_type": "code",
      "source": [
        "plt.plot(train_acc)\n",
        "plt.plot(test_acc)\n",
        "plt.show()"
      ],
      "metadata": {
        "colab": {
          "base_uri": "https://localhost:8080/",
          "height": 430
        },
        "id": "OAMGVC3ppgSu",
        "outputId": "535af079-1a6d-4df1-ee8d-a6ba2b5e76b8"
      },
      "execution_count": null,
      "outputs": [
        {
          "output_type": "display_data",
          "data": {
            "text/plain": [
              "<Figure size 640x480 with 1 Axes>"
            ],
            "image/png": "[encoded data removed]"
          },
          "metadata": {}
        }
      ]
    },
    {
      "cell_type": "code",
      "source": [],
      "metadata": {
        "id": "Jwj7rfTa0ll-",
        "colab": {
          "base_uri": "https://localhost:8080/"
        },
        "outputId": "5525d442-96b1-4d54-fec3-9138489d38e4"
      },
      "execution_count": null,
      "outputs": [
        {
          "output_type": "execute_result",
          "data": {
            "text/plain": [
              "Encoder(\n",
              "  (conv_1): Conv2d(1, 4, kernel_size=(5, 5), stride=(1, 1), padding=(2, 2))\n",
              "  (bn_1): BatchNorm2d(4, eps=1e-05, momentum=0.1, affine=True, track_running_stats=True)\n",
              "  (pool): MaxPool2d(kernel_size=2, stride=2, padding=0, dilation=1, ceil_mode=False)\n",
              "  (conv_2): Conv2d(4, 8, kernel_size=(3, 3), stride=(1, 1), padding=(1, 1))\n",
              "  (bn_2): BatchNorm2d(8, eps=1e-05, momentum=0.1, affine=True, track_running_stats=True)\n",
              "  (conv_3): Conv2d(8, 16, kernel_size=(3, 3), stride=(1, 1), padding=(1, 1))\n",
              "  (bn_3): BatchNorm2d(16, eps=1e-05, momentum=0.1, affine=True, track_running_stats=True)\n",
              ")"
            ]
          },
          "metadata": {},
          "execution_count": 103
        }
      ]
    },
    {
      "cell_type": "code",
      "source": [],
      "metadata": {
        "id": "zDom2Kl6XrwU",
        "colab": {
          "base_uri": "https://localhost:8080/",
          "height": 133
        },
        "outputId": "40885ef5-5ca4-43d3-84cf-851145bfb1e8"
      },
      "execution_count": null,
      "outputs": [
        {
          "output_type": "error",
          "ename": "SyntaxError",
          "evalue": "ignored",
          "traceback": [
            "\u001b[0;36m  File \u001b[0;32m\"<ipython-input-1-d7638873124c>\"\u001b[0;36m, line \u001b[0;32m1\u001b[0m\n\u001b[0;31m    class FeatureEcstractor():\u001b[0m\n\u001b[0m                              ^\u001b[0m\n\u001b[0;31mSyntaxError\u001b[0m\u001b[0;31m:\u001b[0m incomplete input\n"
          ]
        }
      ]
    },
    {
      "cell_type": "markdown",
      "source": [
        "#Комбинация из feature extractor и K-means"
      ],
      "metadata": {
        "id": "FO9IZjk5NVdI"
      }
    },
    {
      "cell_type": "code",
      "source": [
        "model = models.vgg16(pretrained=True)"
      ],
      "metadata": {
        "id": "I3G91jEuKOtp",
        "colab": {
          "base_uri": "https://localhost:8080/"
        },
        "outputId": "1b132657-12b4-4470-c40f-e8a40659f74a"
      },
      "execution_count": 26,
      "outputs": [
        {
          "output_type": "stream",
          "name": "stderr",
          "text": [
            "/usr/local/lib/python3.10/dist-packages/torchvision/models/_utils.py:208: UserWarning: The parameter 'pretrained' is deprecated since 0.13 and may be removed in the future, please use 'weights' instead.\n",
            "  warnings.warn(\n",
            "/usr/local/lib/python3.10/dist-packages/torchvision/models/_utils.py:223: UserWarning: Arguments other than a weight enum or `None` for 'weights' are deprecated since 0.13 and may be removed in the future. The current behavior is equivalent to passing `weights=VGG16_Weights.IMAGENET1K_V1`. You can also use `weights=VGG16_Weights.DEFAULT` to get the most up-to-date weights.\n",
            "  warnings.warn(msg)\n",
            "Downloading: \"https://download.pytorch.org/models/vgg16-397923af.pth\" to /root/.cache/torch/hub/checkpoints/vgg16-397923af.pth\n",
            "100%|██████████| 528M/528M [00:02<00:00, 201MB/s]\n"
          ]
        }
      ]
    },
    {
      "cell_type": "code",
      "source": [
        "class FeatureExtractor(torch.nn.Module):\n",
        "  def __init__(self, model):\n",
        "    super(FeatureExtractor, self).__init__()\n",
        "    self.ad_pool = torch.nn.AdaptiveAvgPool2d(400)\n",
        "    self.features = list(model.features)\n",
        "    self.features = torch.nn.Sequential(*self.features)\n",
        "    self.pooling = model.avgpool\n",
        "    self.flatten = torch.nn.Flatten()\n",
        "    self.fc = model.classifier[0]\n",
        "  \n",
        "  def forward(self, x):\n",
        "    x = self.ad_pool(x)\n",
        "    x = self.features(x)\n",
        "    x = self.pooling(x)\n",
        "    x = self.flatten(x)\n",
        "    x = self.fc(x) \n",
        "    return x \n",
        "\n",
        "\n",
        "model = models.vgg16(pretrained=True)\n",
        "new_model = FeatureExtractor(model)\n",
        "\n",
        "new_model = new_model.to(device)"
      ],
      "metadata": {
        "id": "-5gG3rcL0twD",
        "colab": {
          "base_uri": "https://localhost:8080/"
        },
        "outputId": "8b8ee0d0-49a1-4d0b-8433-48499743cf01"
      },
      "execution_count": 59,
      "outputs": [
        {
          "output_type": "stream",
          "name": "stderr",
          "text": [
            "/usr/local/lib/python3.10/dist-packages/torchvision/models/_utils.py:208: UserWarning: The parameter 'pretrained' is deprecated since 0.13 and may be removed in the future, please use 'weights' instead.\n",
            "  warnings.warn(\n",
            "/usr/local/lib/python3.10/dist-packages/torchvision/models/_utils.py:223: UserWarning: Arguments other than a weight enum or `None` for 'weights' are deprecated since 0.13 and may be removed in the future. The current behavior is equivalent to passing `weights=VGG16_Weights.IMAGENET1K_V1`. You can also use `weights=VGG16_Weights.DEFAULT` to get the most up-to-date weights.\n",
            "  warnings.warn(msg)\n"
          ]
        }
      ]
    },
    {
      "cell_type": "code",
      "source": [],
      "metadata": {
        "id": "tefmqllJ_t__"
      },
      "execution_count": null,
      "outputs": []
    },
    {
      "cell_type": "code",
      "source": [
        "features = []\n",
        "labels = []"
      ],
      "metadata": {
        "id": "IxT1H99p_t5L"
      },
      "execution_count": 72,
      "outputs": []
    },
    {
      "cell_type": "code",
      "source": [
        "with torch.no_grad():\n",
        "    model.eval()\n",
        "    for data, label in testloader:\n",
        "        data = torch.cat((data,data,data),1)\n",
        "        data=data.to(device)\n",
        "\n",
        "        f = new_model(data)\n",
        "        features.append(f.cpu().detach().numpy().reshape(-1))\n",
        "        labels.append(int(label.cpu().detach().numpy().reshape(-1)[0]))"
      ],
      "metadata": {
        "id": "r2SOJmsAFjxf"
      },
      "execution_count": 73,
      "outputs": []
    },
    {
      "cell_type": "code",
      "source": [
        "kmeans = KMeans(n_clusters=2, random_state=42)\n",
        "kmeans.fit(features)\n",
        "predicted = kmeans.labels_\n",
        "print(predicted)\n",
        "print(labels)\n",
        "print((predicted == labels).sum()/len(labels))"
      ],
      "metadata": {
        "colab": {
          "base_uri": "https://localhost:8080/"
        },
        "id": "aCQqb9XB3WxY",
        "outputId": "fa058f1b-fac2-4107-a956-0aa06c3ef802"
      },
      "execution_count": 77,
      "outputs": [
        {
          "output_type": "stream",
          "name": "stderr",
          "text": [
            "/usr/local/lib/python3.10/dist-packages/sklearn/cluster/_kmeans.py:870: FutureWarning: The default value of `n_init` will change from 10 to 'auto' in 1.4. Set the value of `n_init` explicitly to suppress the warning\n",
            "  warnings.warn(\n"
          ]
        },
        {
          "output_type": "stream",
          "name": "stdout",
          "text": [
            "[0 0 1 1 1 0 0 1 1 0 1 0 0 0 1 1 1 0 1 1 0 0 0 1 1 0 1 1 1 0 0 1 0 0 0 0 0\n",
            " 1 0 1 1 0 0 0 0 0 0 1 1 0 0 0 1 1 1 0 1 0 0 1 0 1 1 1 0 0 0 1 1 0 0 0 1 0\n",
            " 0 0 1 0 0 1 0 0 1 1 1 0 0 0 0 1 0 1 0 0 0 0 0 0 1 1 1 0 1 0 0 1 0 0 0 0 0\n",
            " 0 0 1 0 1 1 0 1 1 0 0 1 0 0 0 0 1 0 0 0 0 0 0 1 1 0 0 1 1 0 1 0 1 0 0 1 1\n",
            " 1 0 0 1 1 1 1 0 0 1 0 0 0 1 0 1 1 1 1 1 0 1 0 1 0 0 0 1 1 0 0 0 1 0 0 1 0\n",
            " 1 1 0 0 0 0 0 0 0 1 0 0 1 1 1 0 0 0 1 1 1 0 1 1 0 1 1 1 1 0 1 0 1 1 0 1 1\n",
            " 1 0 0 0 0 0 0 1 1 0 1 1 1 0 1 1 0 0 1 1 0 1 0 1 1 1 1 1 0 1 1 0 0 1 1 0 1\n",
            " 0 0]\n",
            "[1, 0, 1, 0, 1, 1, 1, 1, 1, 0, 1, 0, 0, 1, 0, 1, 1, 0, 0, 1, 1, 1, 0, 0, 0, 0, 0, 0, 0, 0, 1, 1, 1, 0, 1, 0, 1, 0, 1, 1, 0, 0, 0, 0, 0, 1, 0, 0, 1, 1, 0, 0, 0, 1, 0, 0, 1, 1, 1, 0, 0, 1, 1, 1, 0, 0, 1, 1, 1, 1, 1, 0, 0, 0, 0, 0, 1, 1, 0, 1, 0, 0, 0, 0, 1, 1, 0, 1, 0, 0, 0, 1, 1, 0, 1, 1, 0, 0, 1, 0, 1, 1, 1, 0, 0, 0, 0, 0, 1, 0, 0, 1, 0, 1, 0, 0, 1, 0, 1, 1, 0, 0, 1, 0, 0, 0, 0, 1, 0, 0, 1, 1, 1, 1, 1, 0, 0, 1, 0, 0, 0, 1, 0, 0, 1, 1, 1, 1, 1, 0, 0, 0, 0, 1, 1, 0, 1, 1, 0, 0, 0, 1, 1, 1, 1, 1, 1, 1, 1, 0, 1, 1, 1, 1, 0, 0, 1, 0, 1, 0, 0, 0, 0, 1, 0, 1, 1, 0, 1, 0, 1, 0, 0, 1, 1, 1, 0, 0, 1, 1, 0, 1, 1, 1, 0, 0, 0, 1, 1, 1, 1, 0, 1, 0, 0, 1, 0, 1, 1, 0, 0, 1, 1, 1, 1, 1, 0, 0, 0, 0, 1, 1, 1, 1, 0, 0, 1, 1, 0, 0, 0, 0, 1, 1, 0, 0, 1, 0, 1, 0, 0, 0, 1, 0, 0, 0, 0, 0, 1, 0, 0]\n",
            "0.6206896551724138\n"
          ]
        }
      ]
    },
    {
      "cell_type": "code",
      "source": [],
      "metadata": {
        "id": "vJ2UakNyNGn5"
      },
      "execution_count": null,
      "outputs": []
    }
  ]
}